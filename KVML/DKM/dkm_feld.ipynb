{
 "cells": [
  {
   "cell_type": "code",
   "execution_count": 1,
   "metadata": {},
   "outputs": [
    {
     "name": "stdout",
     "output_type": "stream",
     "text": [
      "Populating the interactive namespace from numpy and matplotlib\n"
     ]
    }
   ],
   "source": [
    "%pylab inline"
   ]
  },
  {
   "cell_type": "code",
   "execution_count": 17,
   "metadata": {
    "collapsed": true
   },
   "outputs": [],
   "source": [
    "from scipy.optimize import curve_fit"
   ]
  },
  {
   "cell_type": "code",
   "execution_count": 2,
   "metadata": {
    "collapsed": true
   },
   "outputs": [],
   "source": [
    "data=loadtxt('./Adatok/858Marcius_2_Mg_73.dat',comments='#')"
   ]
  },
  {
   "cell_type": "code",
   "execution_count": 3,
   "metadata": {
    "collapsed": true
   },
   "outputs": [],
   "source": [
    "indir='./Adatok/'"
   ]
  },
  {
   "cell_type": "code",
   "execution_count": 4,
   "metadata": {
    "collapsed": true
   },
   "outputs": [],
   "source": [
    "names=['858Marcius_2_Mg_73','859Marcius_2_Mg_73','860Marcius_2_Mg_45_','861Marcius_2_Mg_45_', \\\n",
    "      '862Marcius_2_Mg_27','863Marcius_2_Mg_27','864Marcius_2_Mg_125','865Marcius_2_Mg_125', \\\n",
    "      '866Marcius_2_Mg_093','867Marcius_2_Mg_093','868Marcius_2_Mg_047','869Marcius_2_Mg_047', \\\n",
    "      '870Marcius_2_Mg_145','871Marcius_2_Mg_145']"
   ]
  },
  {
   "cell_type": "code",
   "execution_count": 16,
   "metadata": {
    "collapsed": true
   },
   "outputs": [],
   "source": [
    "def simple_lin(x,a,b):\n",
    "    return(a*x+b)"
   ]
  },
  {
   "cell_type": "code",
   "execution_count": 19,
   "metadata": {},
   "outputs": [],
   "source": [
    "S=[]\n",
    "Fm=[]\n",
    "hm=[]\n",
    "rel_err=[]\n",
    "for f in names:\n",
    "    data=loadtxt(indir+f+'.dat',comments='#')\n",
    "    val, idx = max((val, idx) for (idx, val) in enumerate(data[:,1]))\n",
    "    val2, idx2 = max((val2, idx2) for (idx2, val2) in enumerate(data[idx:idx+100,2]))\n",
    "    z,pcov=curve_fit(simple_lin,data[idx+idx2:idx+idx2+50,2],data[idx+idx2:idx+idx2+50,1])\n",
    "    S.append(z[0])\n",
    "    Fm.append(val)\n",
    "    hm.append(data[idx+idx2,2])\n",
    "    rel_err.append(sqrt(diag(pcov)[0])/z[0])\n",
    "    #plot(data[:,2],data[:,1],'bo',ms=0.5)\n",
    "    #mm=linspace(4.2,4.6,10)\n",
    "    #plot(mm,polyval(z,mm))\n",
    "    #xlim(4.4,4.55)\n",
    "    #ylim(100,300)"
   ]
  },
  {
   "cell_type": "code",
   "execution_count": 22,
   "metadata": {},
   "outputs": [
    {
     "data": {
      "text/plain": [
       "array([0.05709932, 0.02918516, 0.52197417, 0.21256259, 0.25759492,\n",
       "       0.14511758, 0.06217663])"
      ]
     },
     "execution_count": 22,
     "metadata": {},
     "output_type": "execute_result"
    }
   ],
   "source": [
    "err=zeros((7))\n",
    "for j in range (7):\n",
    "    err[j]=(rel_err[2*j]+rel_err[2*j+1])/2\n",
    "hc*err"
   ]
  },
  {
   "cell_type": "code",
   "execution_count": 6,
   "metadata": {},
   "outputs": [
    {
     "data": {
      "text/plain": [
       "[2889.8038111692463,\n",
       " 1750.9700609029069,\n",
       " 1482.5232385579486,\n",
       " 1217.692008998262,\n",
       " 9987.701728760723,\n",
       " 1642.6488373156117,\n",
       " 6064.570924400211,\n",
       " 6415.324289832045,\n",
       " 6299.402395259567,\n",
       " 3538.360401089632,\n",
       " 2488.6504452458908,\n",
       " 1387.5753922351696,\n",
       " 1806.52105489488,\n",
       " 1675.6538792057813]"
      ]
     },
     "execution_count": 6,
     "metadata": {},
     "output_type": "execute_result"
    }
   ],
   "source": [
    "S"
   ]
  },
  {
   "cell_type": "code",
   "execution_count": 7,
   "metadata": {
    "collapsed": true
   },
   "outputs": [],
   "source": [
    "hc_t=zeros((14))\n",
    "hc=zeros((7))\n",
    "for i in range (14):\n",
    "    hc_t[i]=hm[i]-0.75*Fm[i]/S[i]\n",
    "for j in range (7):\n",
    "    hc[j]=(hc_t[2*j]+hc_t[2*j+1])/2"
   ]
  },
  {
   "cell_type": "code",
   "execution_count": 8,
   "metadata": {},
   "outputs": [
    {
     "data": {
      "text/plain": [
       "array([3.45059236, 3.48503894, 4.15363094, 5.52929115, 5.37350666,\n",
       "       5.63103012, 4.58956005])"
      ]
     },
     "execution_count": 8,
     "metadata": {},
     "output_type": "execute_result"
    }
   ],
   "source": [
    "hc"
   ]
  },
  {
   "cell_type": "code",
   "execution_count": 9,
   "metadata": {},
   "outputs": [
    {
     "name": "stdout",
     "output_type": "stream",
     "text": [
      "2320.386936036077\n",
      "1350.1076237781053\n",
      "5815.175283038167\n",
      "6239.947607116128\n",
      "4918.8813981746\n",
      "1938.1129187405302\n",
      "1741.0874670503308\n"
     ]
    }
   ],
   "source": [
    "for j in range (7):\n",
    "    print((S[2*j]+S[2*j+1])/2)"
   ]
  },
  {
   "cell_type": "code",
   "execution_count": 10,
   "metadata": {},
   "outputs": [
    {
     "name": "stdout",
     "output_type": "stream",
     "text": [
      "299.2876025\n",
      "299.63186099999996\n",
      "299.2628585\n",
      "299.6415895\n",
      "299.697005\n",
      "299.25645\n",
      "299.138962\n"
     ]
    }
   ],
   "source": [
    "for j in range (7):\n",
    "    print((Fm[2*j]+Fm[2*j+1])/2)"
   ]
  },
  {
   "cell_type": "code",
   "execution_count": 11,
   "metadata": {},
   "outputs": [
    {
     "name": "stdout",
     "output_type": "stream",
     "text": [
      "3.553495\n",
      "3.6531055\n",
      "4.233092\n",
      "5.5653345000000005\n",
      "5.423109999999999\n",
      "5.7570615\n",
      "4.7185935\n"
     ]
    }
   ],
   "source": [
    "for j in range (7):\n",
    "    print((hm[2*j]+hm[2*j+1])/2)"
   ]
  },
  {
   "cell_type": "code",
   "execution_count": 14,
   "metadata": {},
   "outputs": [],
   "source": [
    "A=24.5*hc**2"
   ]
  },
  {
   "cell_type": "code",
   "execution_count": 29,
   "metadata": {},
   "outputs": [],
   "source": [
    "HV=zeros((7))\n",
    "HV_err=zeros((7))\n",
    "for j in range (7):\n",
    "    HV_err[j]=((Fm[2*j]+Fm[2*j+1])/2/A[j]*err[j])\n",
    "    HV[j]=((Fm[2*j]+Fm[2*j+1])/2/A[j])"
   ]
  },
  {
   "cell_type": "code",
   "execution_count": 30,
   "metadata": {
    "collapsed": true
   },
   "outputs": [],
   "source": [
    "conc=[0.073,0.045,0.027,0.0125,0.0093,0.0047,0.0145]"
   ]
  },
  {
   "cell_type": "code",
   "execution_count": 53,
   "metadata": {},
   "outputs": [],
   "source": [
    "def func(x,a,b,c):\n",
    "    return(a+b*x**c)"
   ]
  },
  {
   "cell_type": "code",
   "execution_count": 71,
   "metadata": {},
   "outputs": [],
   "source": [
    "popt,pcov=curve_fit(func,conc,HV,p0=[10,3,0.5])"
   ]
  },
  {
   "cell_type": "code",
   "execution_count": 72,
   "metadata": {},
   "outputs": [
    {
     "data": {
      "text/plain": [
       "array([-0.06243999,  3.21605618,  0.3929115 ])"
      ]
     },
     "execution_count": 72,
     "metadata": {},
     "output_type": "execute_result"
    }
   ],
   "source": [
    "popt"
   ]
  },
  {
   "cell_type": "code",
   "execution_count": 83,
   "metadata": {},
   "outputs": [
    {
     "data": {
      "text/plain": [
       "array([0.69224875, 1.48746038, 0.37955989])"
      ]
     },
     "execution_count": 83,
     "metadata": {},
     "output_type": "execute_result"
    }
   ],
   "source": [
    "sqrt(diag(pcov))"
   ]
  },
  {
   "cell_type": "code",
   "execution_count": 80,
   "metadata": {},
   "outputs": [
    {
     "data": {
      "image/png": "[encoded data removed]",
      "text/plain": [
       "<matplotlib.figure.Figure at 0x25cf4573d68>"
      ]
     },
     "metadata": {},
     "output_type": "display_data"
    }
   ],
   "source": [
    "figsize(8,6)\n",
    "scatter(conc,HV,color='navy',label='Mérési pontok')\n",
    "mm=linspace(0,0.1,1000)\n",
    "plot(mm, func(mm,*popt),color='red',label='Illesztett görbe ')\n",
    "xlabel('Mg-tartalom [m/m%]',fontsize=15)\n",
    "ylabel('HV [kPa]',fontsize=15)\n",
    "xlim(-0.015,0.09)\n",
    "ylim(0.3,1.1)\n",
    "grid(True)\n",
    "legend(fontsize=13)\n",
    "title('Keménység koncentrációfüggése',fontsize=15)\n",
    "savefig('./szabad.png',bbox_inches='tight')"
   ]
  },
  {
   "cell_type": "code",
   "execution_count": 84,
   "metadata": {
    "collapsed": true
   },
   "outputs": [],
   "source": [
    "def func1(x,a,b):\n",
    "    return(a+b*x**(1/2))\n",
    "def func2(x,a,b):\n",
    "    return(a+b*x**(2/3))"
   ]
  },
  {
   "cell_type": "code",
   "execution_count": 85,
   "metadata": {},
   "outputs": [
    {
     "name": "stdout",
     "output_type": "stream",
     "text": [
      "[0.08925075 3.74068448]\n",
      "[0.22841962 5.08073946]\n"
     ]
    },
    {
     "data": {
      "image/png": "[encoded data removed]",
      "text/plain": [
       "<matplotlib.figure.Figure at 0x25cf4409e48>"
      ]
     },
     "metadata": {},
     "output_type": "display_data"
    }
   ],
   "source": [
    "figsize(16,6)\n",
    "fig, (ax1,ax2)=subplots(1,2)#sharex=True,sharey=True)\n",
    "ax1.scatter(conc,HV,color='navy',label='Mérési pontok')\n",
    "popt1,pcov1=curve_fit(func1,conc,HV)\n",
    "print(popt1)\n",
    "mm=linspace(0,0.1,1000)\n",
    "ax1.plot(mm, func1(mm,*popt1),color='red',label='Illesztett görbe ')\n",
    "ax1.set_xlabel('Mg-tartalom [m/m%]',fontsize=15)\n",
    "ax1.set_ylabel('HV [kPa]',fontsize=15)\n",
    "ax1.set_xlim(-0.015,0.09)\n",
    "ax1.set_ylim(0.3,1.1)\n",
    "ax1.grid(True)\n",
    "ax1.legend(fontsize=13)\n",
    "ax1.set_title('Keménység koncentrációfüggése (m=1/2)',fontsize=15)\n",
    "\n",
    "ax2.scatter(conc,HV,color='navy',label='Mérési pontok')\n",
    "popt2,pcov2=curve_fit(func2,conc,HV)\n",
    "print(popt2)\n",
    "mm=linspace(0,0.1,1000)\n",
    "ax2.plot(mm, func2(mm,*popt2),color='red',label='Illesztett görbe ')\n",
    "ax2.set_xlabel('Mg-tartalom [m/m%]',fontsize=15)\n",
    "ax2.set_ylabel('HV [kPa]',fontsize=15)\n",
    "ax2.set_xlim(-0.015,0.09)\n",
    "ax2.set_ylim(0.3,1.1)\n",
    "ax2.grid(True)\n",
    "ax2.legend(fontsize=13)\n",
    "ax2.set_title('Keménység koncentrációfüggése (m=2/3)',fontsize=15)\n",
    "\n",
    "savefig('./illesztes.png',bbox_inches='tight')"
   ]
  },
  {
   "cell_type": "code",
   "execution_count": 86,
   "metadata": {},
   "outputs": [
    {
     "data": {
      "text/plain": [
       "array([0.07973915, 0.48917486])"
      ]
     },
     "execution_count": 86,
     "metadata": {},
     "output_type": "execute_result"
    }
   ],
   "source": [
    "sqrt(diag(pcov1))"
   ]
  },
  {
   "cell_type": "code",
   "execution_count": 87,
   "metadata": {},
   "outputs": [
    {
     "data": {
      "text/plain": [
       "array([0.06769247, 0.70908118])"
      ]
     },
     "execution_count": 87,
     "metadata": {},
     "output_type": "execute_result"
    }
   ],
   "source": [
    "sqrt(diag(pcov2))"
   ]
  },
  {
   "cell_type": "code",
   "execution_count": null,
   "metadata": {
    "collapsed": true
   },
   "outputs": [],
   "source": []
  }
 ],
 "metadata": {
  "kernelspec": {
   "display_name": "Python 3",
   "language": "python",
   "name": "python3"
  },
  "language_info": {
   "codemirror_mode": {
    "name": "ipython",
    "version": 3
   },
   "file_extension": ".py",
   "mimetype": "text/x-python",
   "name": "python",
   "nbconvert_exporter": "python",
   "pygments_lexer": "ipython3",
   "version": "3.5.3"
  }
 },
 "nbformat": 4,
 "nbformat_minor": 2
}
